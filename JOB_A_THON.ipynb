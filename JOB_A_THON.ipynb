{
  "nbformat": 4,
  "nbformat_minor": 0,
  "metadata": {
    "colab": {
      "name": "JOB_A_THON.ipynb",
      "provenance": [],
      "collapsed_sections": [],
      "mount_file_id": "1W1XKdjO1UnpIfgsSxk8FMcS6gChLbfSd",
      "authorship_tag": "ABX9TyNjJh6UoytU77weHeb5C/DE",
      "include_colab_link": true
    },
    "kernelspec": {
      "name": "python3",
      "display_name": "Python 3"
    },
    "language_info": {
      "name": "python"
    }
  },
  "cells": [
    {
      "cell_type": "markdown",
      "metadata": {
        "id": "view-in-github",
        "colab_type": "text"
      },
      "source": [
        "<a href=\"https://colab.research.google.com/github/Santoshsai007/Santoshsai007/blob/main/JOB_A_THON.ipynb\" target=\"_parent\"><img src=\"https://colab.research.google.com/assets/colab-badge.svg\" alt=\"Open In Colab\"/></a>"
      ]
    },
    {
      "cell_type": "code",
      "metadata": {
        "id": "LEGUOJQLjQ_2"
      },
      "source": [
        "import pandas as pd\n",
        "import numpy as np\n",
        "import matplotlib.pyplot as plt\n",
        "import seaborn as sns\n",
        "%matplotlib inline"
      ],
      "execution_count": 250,
      "outputs": []
    },
    {
      "cell_type": "code",
      "metadata": {
        "colab": {
          "base_uri": "https://localhost:8080/"
        },
        "id": "BlNYdPeNjcRM",
        "outputId": "1369768c-6ea1-409a-e637-e9a93ff13608"
      },
      "source": [
        "from google.colab import drive\n",
        "drive.mount('/content/drive')"
      ],
      "execution_count": 251,
      "outputs": [
        {
          "output_type": "stream",
          "name": "stdout",
          "text": [
            "Drive already mounted at /content/drive; to attempt to forcibly remount, call drive.mount(\"/content/drive\", force_remount=True).\n"
          ]
        }
      ]
    },
    {
      "cell_type": "code",
      "metadata": {
        "id": "gkFhPlQUjdcy"
      },
      "source": [
        "dftrain=pd.read_csv(\"/content/drive/MyDrive/job_a_thon_nov_2021.csv\")"
      ],
      "execution_count": 252,
      "outputs": []
    },
    {
      "cell_type": "code",
      "metadata": {
        "colab": {
          "base_uri": "https://localhost:8080/",
          "height": 306
        },
        "id": "eU1Pkh_7kplh",
        "outputId": "39b57237-206e-4a89-c659-cf7ea61c97d7"
      },
      "source": [
        "dftrain.head()"
      ],
      "execution_count": 253,
      "outputs": [
        {
          "output_type": "execute_result",
          "data": {
            "text/html": [
              "<div>\n",
              "<style scoped>\n",
              "    .dataframe tbody tr th:only-of-type {\n",
              "        vertical-align: middle;\n",
              "    }\n",
              "\n",
              "    .dataframe tbody tr th {\n",
              "        vertical-align: top;\n",
              "    }\n",
              "\n",
              "    .dataframe thead th {\n",
              "        text-align: right;\n",
              "    }\n",
              "</style>\n",
              "<table border=\"1\" class=\"dataframe\">\n",
              "  <thead>\n",
              "    <tr style=\"text-align: right;\">\n",
              "      <th></th>\n",
              "      <th>MMM-YY</th>\n",
              "      <th>Emp_ID</th>\n",
              "      <th>Age</th>\n",
              "      <th>Gender</th>\n",
              "      <th>City</th>\n",
              "      <th>Education_Level</th>\n",
              "      <th>Salary</th>\n",
              "      <th>Dateofjoining</th>\n",
              "      <th>LastWorkingDate</th>\n",
              "      <th>Joining Designation</th>\n",
              "      <th>Designation</th>\n",
              "      <th>Total Business Value</th>\n",
              "      <th>Quarterly Rating</th>\n",
              "    </tr>\n",
              "  </thead>\n",
              "  <tbody>\n",
              "    <tr>\n",
              "      <th>0</th>\n",
              "      <td>2016-01-01</td>\n",
              "      <td>1</td>\n",
              "      <td>28</td>\n",
              "      <td>Male</td>\n",
              "      <td>C23</td>\n",
              "      <td>Master</td>\n",
              "      <td>57387</td>\n",
              "      <td>2015-12-24</td>\n",
              "      <td>NaN</td>\n",
              "      <td>1</td>\n",
              "      <td>1</td>\n",
              "      <td>2381060</td>\n",
              "      <td>2</td>\n",
              "    </tr>\n",
              "    <tr>\n",
              "      <th>1</th>\n",
              "      <td>2016-02-01</td>\n",
              "      <td>1</td>\n",
              "      <td>28</td>\n",
              "      <td>Male</td>\n",
              "      <td>C23</td>\n",
              "      <td>Master</td>\n",
              "      <td>57387</td>\n",
              "      <td>2015-12-24</td>\n",
              "      <td>NaN</td>\n",
              "      <td>1</td>\n",
              "      <td>1</td>\n",
              "      <td>-665480</td>\n",
              "      <td>2</td>\n",
              "    </tr>\n",
              "    <tr>\n",
              "      <th>2</th>\n",
              "      <td>2016-03-01</td>\n",
              "      <td>1</td>\n",
              "      <td>28</td>\n",
              "      <td>Male</td>\n",
              "      <td>C23</td>\n",
              "      <td>Master</td>\n",
              "      <td>57387</td>\n",
              "      <td>2015-12-24</td>\n",
              "      <td>2016-03-11</td>\n",
              "      <td>1</td>\n",
              "      <td>1</td>\n",
              "      <td>0</td>\n",
              "      <td>2</td>\n",
              "    </tr>\n",
              "    <tr>\n",
              "      <th>3</th>\n",
              "      <td>2017-11-01</td>\n",
              "      <td>2</td>\n",
              "      <td>31</td>\n",
              "      <td>Male</td>\n",
              "      <td>C7</td>\n",
              "      <td>Master</td>\n",
              "      <td>67016</td>\n",
              "      <td>2017-11-06</td>\n",
              "      <td>NaN</td>\n",
              "      <td>2</td>\n",
              "      <td>2</td>\n",
              "      <td>0</td>\n",
              "      <td>1</td>\n",
              "    </tr>\n",
              "    <tr>\n",
              "      <th>4</th>\n",
              "      <td>2017-12-01</td>\n",
              "      <td>2</td>\n",
              "      <td>31</td>\n",
              "      <td>Male</td>\n",
              "      <td>C7</td>\n",
              "      <td>Master</td>\n",
              "      <td>67016</td>\n",
              "      <td>2017-11-06</td>\n",
              "      <td>NaN</td>\n",
              "      <td>2</td>\n",
              "      <td>2</td>\n",
              "      <td>0</td>\n",
              "      <td>1</td>\n",
              "    </tr>\n",
              "  </tbody>\n",
              "</table>\n",
              "</div>"
            ],
            "text/plain": [
              "       MMM-YY  Emp_ID  Age  ... Designation Total Business Value Quarterly Rating\n",
              "0  2016-01-01       1   28  ...           1              2381060                2\n",
              "1  2016-02-01       1   28  ...           1              -665480                2\n",
              "2  2016-03-01       1   28  ...           1                    0                2\n",
              "3  2017-11-01       2   31  ...           2                    0                1\n",
              "4  2017-12-01       2   31  ...           2                    0                1\n",
              "\n",
              "[5 rows x 13 columns]"
            ]
          },
          "metadata": {},
          "execution_count": 253
        }
      ]
    },
    {
      "cell_type": "code",
      "metadata": {
        "id": "tGaEEpjqKWdx"
      },
      "source": [
        "dftest=pd.read_csv(\"/content/drive/MyDrive/job_a_thon_test.csv\")"
      ],
      "execution_count": 254,
      "outputs": []
    },
    {
      "cell_type": "code",
      "metadata": {
        "colab": {
          "base_uri": "https://localhost:8080/"
        },
        "id": "5JHE9zp7qEur",
        "outputId": "0530bdd8-4851-4e21-e075-23079cab1900"
      },
      "source": [
        "dftrain.info()"
      ],
      "execution_count": 255,
      "outputs": [
        {
          "output_type": "stream",
          "name": "stdout",
          "text": [
            "<class 'pandas.core.frame.DataFrame'>\n",
            "RangeIndex: 19104 entries, 0 to 19103\n",
            "Data columns (total 13 columns):\n",
            " #   Column                Non-Null Count  Dtype \n",
            "---  ------                --------------  ----- \n",
            " 0   MMM-YY                19104 non-null  object\n",
            " 1   Emp_ID                19104 non-null  int64 \n",
            " 2   Age                   19104 non-null  int64 \n",
            " 3   Gender                19104 non-null  object\n",
            " 4   City                  19104 non-null  object\n",
            " 5   Education_Level       19104 non-null  object\n",
            " 6   Salary                19104 non-null  int64 \n",
            " 7   Dateofjoining         19104 non-null  object\n",
            " 8   LastWorkingDate       1616 non-null   object\n",
            " 9   Joining Designation   19104 non-null  int64 \n",
            " 10  Designation           19104 non-null  int64 \n",
            " 11  Total Business Value  19104 non-null  int64 \n",
            " 12  Quarterly Rating      19104 non-null  int64 \n",
            "dtypes: int64(7), object(6)\n",
            "memory usage: 1.9+ MB\n"
          ]
        }
      ]
    },
    {
      "cell_type": "code",
      "metadata": {
        "id": "U2eRRUUoqDjh"
      },
      "source": [
        "check1=dftrain[dftrain[\"LastWorkingDate\"].notnull()]"
      ],
      "execution_count": 256,
      "outputs": []
    },
    {
      "cell_type": "code",
      "metadata": {
        "id": "Chb22gB7m6_W"
      },
      "source": [
        "check3=dftrain.groupby(\"Emp_ID\")[\"Total Business Value\"].sum()"
      ],
      "execution_count": 257,
      "outputs": []
    },
    {
      "cell_type": "code",
      "metadata": {
        "id": "JlP37uI5nrG1"
      },
      "source": [
        "check4=dftrain.groupby(\"Emp_ID\")[\"Quarterly Rating\"].sum().reset_index(name=\"rating\")"
      ],
      "execution_count": 258,
      "outputs": []
    },
    {
      "cell_type": "code",
      "metadata": {
        "id": "EXaruU9itMHh"
      },
      "source": [
        ""
      ],
      "execution_count": 258,
      "outputs": []
    },
    {
      "cell_type": "code",
      "metadata": {
        "id": "LMJ5Y9xuoTkU"
      },
      "source": [
        "x=dftrain[\"Emp_ID\"].value_counts()"
      ],
      "execution_count": 259,
      "outputs": []
    },
    {
      "cell_type": "code",
      "metadata": {
        "id": "ex03Osfqq7kc"
      },
      "source": [
        "x.index=x.index.set_names(\"Emp_ID\")"
      ],
      "execution_count": 260,
      "outputs": []
    },
    {
      "cell_type": "code",
      "metadata": {
        "id": "7h-5-B5BpuQy"
      },
      "source": [
        "x=x.reset_index(name=\"count\")"
      ],
      "execution_count": 261,
      "outputs": []
    },
    {
      "cell_type": "code",
      "metadata": {
        "id": "D4d0Wt9vowEx"
      },
      "source": [
        "check3=check3.reset_index()"
      ],
      "execution_count": 262,
      "outputs": []
    },
    {
      "cell_type": "code",
      "metadata": {
        "id": "Jnb32aL9paLq"
      },
      "source": [
        "check3=check3.join(x.set_index(\"Emp_ID\"),on=\"Emp_ID\")"
      ],
      "execution_count": 263,
      "outputs": []
    },
    {
      "cell_type": "code",
      "metadata": {
        "id": "FtA9E3uktlOY"
      },
      "source": [
        "check5=check3.join(check4.set_index(\"Emp_ID\"),on=\"Emp_ID\")"
      ],
      "execution_count": 264,
      "outputs": []
    },
    {
      "cell_type": "code",
      "metadata": {
        "id": "TOB_WzXjt-g7"
      },
      "source": [
        "check5[\"Avg_Quarterly Rating\"]=check5[\"rating\"]/check5[\"count\"]"
      ],
      "execution_count": 265,
      "outputs": []
    },
    {
      "cell_type": "code",
      "metadata": {
        "id": "If3bUsb2nPaW"
      },
      "source": [
        "check6=check5.drop([\"rating\",\"count\"],axis=1)"
      ],
      "execution_count": 266,
      "outputs": []
    },
    {
      "cell_type": "code",
      "metadata": {
        "id": "BlsiCmF8vFrR"
      },
      "source": [
        "check6.rename(columns={\"Total Business Value\":\"Total_Business_Value\"},inplace=True)"
      ],
      "execution_count": 267,
      "outputs": []
    },
    {
      "cell_type": "code",
      "metadata": {
        "id": "uDBmewJBwnk6"
      },
      "source": [
        "dftrain1=dftrain.drop_duplicates(subset=[\"Emp_ID\"],keep='first')"
      ],
      "execution_count": 268,
      "outputs": []
    },
    {
      "cell_type": "code",
      "metadata": {
        "colab": {
          "base_uri": "https://localhost:8080/"
        },
        "id": "oiwsV_elw8_B",
        "outputId": "c1f3df3f-e8bf-4b31-a846-dbb8a4c649d4"
      },
      "source": [
        "dftrain1.shape"
      ],
      "execution_count": 269,
      "outputs": [
        {
          "output_type": "execute_result",
          "data": {
            "text/plain": [
              "(2381, 13)"
            ]
          },
          "metadata": {},
          "execution_count": 269
        }
      ]
    },
    {
      "cell_type": "code",
      "metadata": {
        "id": "09TxwX3jus4s"
      },
      "source": [
        "check7=check6.join(dftrain1.set_index(\"Emp_ID\"),on=\"Emp_ID\")"
      ],
      "execution_count": 270,
      "outputs": []
    },
    {
      "cell_type": "code",
      "metadata": {
        "colab": {
          "base_uri": "https://localhost:8080/",
          "height": 343
        },
        "id": "QZUg_qGtwSCR",
        "outputId": "b2a1c810-ed17-4bf2-e823-3c1dd7d245b2"
      },
      "source": [
        "check7.head()"
      ],
      "execution_count": 271,
      "outputs": [
        {
          "output_type": "execute_result",
          "data": {
            "text/html": [
              "<div>\n",
              "<style scoped>\n",
              "    .dataframe tbody tr th:only-of-type {\n",
              "        vertical-align: middle;\n",
              "    }\n",
              "\n",
              "    .dataframe tbody tr th {\n",
              "        vertical-align: top;\n",
              "    }\n",
              "\n",
              "    .dataframe thead th {\n",
              "        text-align: right;\n",
              "    }\n",
              "</style>\n",
              "<table border=\"1\" class=\"dataframe\">\n",
              "  <thead>\n",
              "    <tr style=\"text-align: right;\">\n",
              "      <th></th>\n",
              "      <th>Emp_ID</th>\n",
              "      <th>Total_Business_Value</th>\n",
              "      <th>Avg_Quarterly Rating</th>\n",
              "      <th>MMM-YY</th>\n",
              "      <th>Age</th>\n",
              "      <th>Gender</th>\n",
              "      <th>City</th>\n",
              "      <th>Education_Level</th>\n",
              "      <th>Salary</th>\n",
              "      <th>Dateofjoining</th>\n",
              "      <th>LastWorkingDate</th>\n",
              "      <th>Joining Designation</th>\n",
              "      <th>Designation</th>\n",
              "      <th>Total Business Value</th>\n",
              "      <th>Quarterly Rating</th>\n",
              "    </tr>\n",
              "  </thead>\n",
              "  <tbody>\n",
              "    <tr>\n",
              "      <th>0</th>\n",
              "      <td>1</td>\n",
              "      <td>1715580</td>\n",
              "      <td>2.0</td>\n",
              "      <td>2016-01-01</td>\n",
              "      <td>28</td>\n",
              "      <td>Male</td>\n",
              "      <td>C23</td>\n",
              "      <td>Master</td>\n",
              "      <td>57387</td>\n",
              "      <td>2015-12-24</td>\n",
              "      <td>NaN</td>\n",
              "      <td>1</td>\n",
              "      <td>1</td>\n",
              "      <td>2381060</td>\n",
              "      <td>2</td>\n",
              "    </tr>\n",
              "    <tr>\n",
              "      <th>1</th>\n",
              "      <td>2</td>\n",
              "      <td>0</td>\n",
              "      <td>1.0</td>\n",
              "      <td>2017-11-01</td>\n",
              "      <td>31</td>\n",
              "      <td>Male</td>\n",
              "      <td>C7</td>\n",
              "      <td>Master</td>\n",
              "      <td>67016</td>\n",
              "      <td>2017-11-06</td>\n",
              "      <td>NaN</td>\n",
              "      <td>2</td>\n",
              "      <td>2</td>\n",
              "      <td>0</td>\n",
              "      <td>1</td>\n",
              "    </tr>\n",
              "    <tr>\n",
              "      <th>2</th>\n",
              "      <td>4</td>\n",
              "      <td>350000</td>\n",
              "      <td>1.0</td>\n",
              "      <td>2016-12-01</td>\n",
              "      <td>43</td>\n",
              "      <td>Male</td>\n",
              "      <td>C13</td>\n",
              "      <td>Master</td>\n",
              "      <td>65603</td>\n",
              "      <td>2016-12-07</td>\n",
              "      <td>NaN</td>\n",
              "      <td>2</td>\n",
              "      <td>2</td>\n",
              "      <td>0</td>\n",
              "      <td>1</td>\n",
              "    </tr>\n",
              "    <tr>\n",
              "      <th>3</th>\n",
              "      <td>5</td>\n",
              "      <td>120360</td>\n",
              "      <td>1.0</td>\n",
              "      <td>2016-01-01</td>\n",
              "      <td>29</td>\n",
              "      <td>Male</td>\n",
              "      <td>C9</td>\n",
              "      <td>College</td>\n",
              "      <td>46368</td>\n",
              "      <td>2016-01-09</td>\n",
              "      <td>NaN</td>\n",
              "      <td>1</td>\n",
              "      <td>1</td>\n",
              "      <td>0</td>\n",
              "      <td>1</td>\n",
              "    </tr>\n",
              "    <tr>\n",
              "      <th>4</th>\n",
              "      <td>6</td>\n",
              "      <td>1265000</td>\n",
              "      <td>1.6</td>\n",
              "      <td>2017-08-01</td>\n",
              "      <td>31</td>\n",
              "      <td>Female</td>\n",
              "      <td>C11</td>\n",
              "      <td>Bachelor</td>\n",
              "      <td>78728</td>\n",
              "      <td>2017-07-31</td>\n",
              "      <td>NaN</td>\n",
              "      <td>3</td>\n",
              "      <td>3</td>\n",
              "      <td>0</td>\n",
              "      <td>1</td>\n",
              "    </tr>\n",
              "  </tbody>\n",
              "</table>\n",
              "</div>"
            ],
            "text/plain": [
              "   Emp_ID  Total_Business_Value  ...  Total Business Value Quarterly Rating\n",
              "0       1               1715580  ...               2381060                2\n",
              "1       2                     0  ...                     0                1\n",
              "2       4                350000  ...                     0                1\n",
              "3       5                120360  ...                     0                1\n",
              "4       6               1265000  ...                     0                1\n",
              "\n",
              "[5 rows x 15 columns]"
            ]
          },
          "metadata": {},
          "execution_count": 271
        }
      ]
    },
    {
      "cell_type": "code",
      "metadata": {
        "id": "ohJ3qW7WybyF"
      },
      "source": [
        "check8=check7.drop([\"Total Business Value\",\"Quarterly Rating\",\"MMM-YY\"],axis=1)"
      ],
      "execution_count": 272,
      "outputs": []
    },
    {
      "cell_type": "code",
      "metadata": {
        "id": "Ao1o7Ru-yr6i"
      },
      "source": [
        "check8[\"LastWorkingDate\"].fillna(\"2017-12-31\",inplace=True)"
      ],
      "execution_count": 273,
      "outputs": []
    },
    {
      "cell_type": "code",
      "metadata": {
        "colab": {
          "base_uri": "https://localhost:8080/"
        },
        "id": "n-YR0v_Ehfyj",
        "outputId": "7d8aef06-09db-43c6-c301-2fd672ed2fc3"
      },
      "source": [
        "check8.info()"
      ],
      "execution_count": 274,
      "outputs": [
        {
          "output_type": "stream",
          "name": "stdout",
          "text": [
            "<class 'pandas.core.frame.DataFrame'>\n",
            "RangeIndex: 2381 entries, 0 to 2380\n",
            "Data columns (total 12 columns):\n",
            " #   Column                Non-Null Count  Dtype  \n",
            "---  ------                --------------  -----  \n",
            " 0   Emp_ID                2381 non-null   int64  \n",
            " 1   Total_Business_Value  2381 non-null   int64  \n",
            " 2   Avg_Quarterly Rating  2381 non-null   float64\n",
            " 3   Age                   2381 non-null   int64  \n",
            " 4   Gender                2381 non-null   object \n",
            " 5   City                  2381 non-null   object \n",
            " 6   Education_Level       2381 non-null   object \n",
            " 7   Salary                2381 non-null   int64  \n",
            " 8   Dateofjoining         2381 non-null   object \n",
            " 9   LastWorkingDate       2381 non-null   object \n",
            " 10  Joining Designation   2381 non-null   int64  \n",
            " 11  Designation           2381 non-null   int64  \n",
            "dtypes: float64(1), int64(6), object(5)\n",
            "memory usage: 223.3+ KB\n"
          ]
        }
      ]
    },
    {
      "cell_type": "code",
      "metadata": {
        "id": "ZKz0PW2dlFSv"
      },
      "source": [
        "check8['Dateofjoining'] =  pd.to_datetime(check8['Dateofjoining'], infer_datetime_format=True)"
      ],
      "execution_count": 275,
      "outputs": []
    },
    {
      "cell_type": "code",
      "metadata": {
        "id": "tjdHQVuglFgF"
      },
      "source": [
        "check8['LastWorkingDate'] =  pd.to_datetime(check8['LastWorkingDate'], infer_datetime_format=True)"
      ],
      "execution_count": 276,
      "outputs": []
    },
    {
      "cell_type": "code",
      "metadata": {
        "id": "533D2_cV3uZB"
      },
      "source": [
        "check8[\"Tenure\"]=(check8['LastWorkingDate']-check8['Dateofjoining']).dt.days"
      ],
      "execution_count": 277,
      "outputs": []
    },
    {
      "cell_type": "code",
      "metadata": {
        "id": "yoD53X8d5sz6"
      },
      "source": [
        "check8[\"Growth\"]=check8[\"Designation\"]-check8[\"Joining Designation\"]"
      ],
      "execution_count": 278,
      "outputs": []
    },
    {
      "cell_type": "code",
      "metadata": {
        "colab": {
          "base_uri": "https://localhost:8080/",
          "height": 241
        },
        "id": "SbddpiRC4IM7",
        "outputId": "f735eb00-0c9b-4ad5-9cec-bf8f764936e1"
      },
      "source": [
        "check8.head()"
      ],
      "execution_count": 279,
      "outputs": [
        {
          "output_type": "execute_result",
          "data": {
            "text/html": [
              "<div>\n",
              "<style scoped>\n",
              "    .dataframe tbody tr th:only-of-type {\n",
              "        vertical-align: middle;\n",
              "    }\n",
              "\n",
              "    .dataframe tbody tr th {\n",
              "        vertical-align: top;\n",
              "    }\n",
              "\n",
              "    .dataframe thead th {\n",
              "        text-align: right;\n",
              "    }\n",
              "</style>\n",
              "<table border=\"1\" class=\"dataframe\">\n",
              "  <thead>\n",
              "    <tr style=\"text-align: right;\">\n",
              "      <th></th>\n",
              "      <th>Emp_ID</th>\n",
              "      <th>Total_Business_Value</th>\n",
              "      <th>Avg_Quarterly Rating</th>\n",
              "      <th>Age</th>\n",
              "      <th>Gender</th>\n",
              "      <th>City</th>\n",
              "      <th>Education_Level</th>\n",
              "      <th>Salary</th>\n",
              "      <th>Dateofjoining</th>\n",
              "      <th>LastWorkingDate</th>\n",
              "      <th>Joining Designation</th>\n",
              "      <th>Designation</th>\n",
              "      <th>Tenure</th>\n",
              "      <th>Growth</th>\n",
              "    </tr>\n",
              "  </thead>\n",
              "  <tbody>\n",
              "    <tr>\n",
              "      <th>0</th>\n",
              "      <td>1</td>\n",
              "      <td>1715580</td>\n",
              "      <td>2.0</td>\n",
              "      <td>28</td>\n",
              "      <td>Male</td>\n",
              "      <td>C23</td>\n",
              "      <td>Master</td>\n",
              "      <td>57387</td>\n",
              "      <td>2015-12-24</td>\n",
              "      <td>2017-12-31</td>\n",
              "      <td>1</td>\n",
              "      <td>1</td>\n",
              "      <td>738</td>\n",
              "      <td>0</td>\n",
              "    </tr>\n",
              "    <tr>\n",
              "      <th>1</th>\n",
              "      <td>2</td>\n",
              "      <td>0</td>\n",
              "      <td>1.0</td>\n",
              "      <td>31</td>\n",
              "      <td>Male</td>\n",
              "      <td>C7</td>\n",
              "      <td>Master</td>\n",
              "      <td>67016</td>\n",
              "      <td>2017-11-06</td>\n",
              "      <td>2017-12-31</td>\n",
              "      <td>2</td>\n",
              "      <td>2</td>\n",
              "      <td>55</td>\n",
              "      <td>0</td>\n",
              "    </tr>\n",
              "    <tr>\n",
              "      <th>2</th>\n",
              "      <td>4</td>\n",
              "      <td>350000</td>\n",
              "      <td>1.0</td>\n",
              "      <td>43</td>\n",
              "      <td>Male</td>\n",
              "      <td>C13</td>\n",
              "      <td>Master</td>\n",
              "      <td>65603</td>\n",
              "      <td>2016-12-07</td>\n",
              "      <td>2017-12-31</td>\n",
              "      <td>2</td>\n",
              "      <td>2</td>\n",
              "      <td>389</td>\n",
              "      <td>0</td>\n",
              "    </tr>\n",
              "    <tr>\n",
              "      <th>3</th>\n",
              "      <td>5</td>\n",
              "      <td>120360</td>\n",
              "      <td>1.0</td>\n",
              "      <td>29</td>\n",
              "      <td>Male</td>\n",
              "      <td>C9</td>\n",
              "      <td>College</td>\n",
              "      <td>46368</td>\n",
              "      <td>2016-01-09</td>\n",
              "      <td>2017-12-31</td>\n",
              "      <td>1</td>\n",
              "      <td>1</td>\n",
              "      <td>722</td>\n",
              "      <td>0</td>\n",
              "    </tr>\n",
              "    <tr>\n",
              "      <th>4</th>\n",
              "      <td>6</td>\n",
              "      <td>1265000</td>\n",
              "      <td>1.6</td>\n",
              "      <td>31</td>\n",
              "      <td>Female</td>\n",
              "      <td>C11</td>\n",
              "      <td>Bachelor</td>\n",
              "      <td>78728</td>\n",
              "      <td>2017-07-31</td>\n",
              "      <td>2017-12-31</td>\n",
              "      <td>3</td>\n",
              "      <td>3</td>\n",
              "      <td>153</td>\n",
              "      <td>0</td>\n",
              "    </tr>\n",
              "  </tbody>\n",
              "</table>\n",
              "</div>"
            ],
            "text/plain": [
              "   Emp_ID  Total_Business_Value  ...  Tenure  Growth\n",
              "0       1               1715580  ...     738       0\n",
              "1       2                     0  ...      55       0\n",
              "2       4                350000  ...     389       0\n",
              "3       5                120360  ...     722       0\n",
              "4       6               1265000  ...     153       0\n",
              "\n",
              "[5 rows x 14 columns]"
            ]
          },
          "metadata": {},
          "execution_count": 279
        }
      ]
    },
    {
      "cell_type": "code",
      "metadata": {
        "id": "hb9L6eEyjGPV"
      },
      "source": [
        "check9=check8.drop([\"Dateofjoining\",\"LastWorkingDate\"],axis=1)"
      ],
      "execution_count": 280,
      "outputs": []
    },
    {
      "cell_type": "code",
      "metadata": {
        "colab": {
          "base_uri": "https://localhost:8080/",
          "height": 204
        },
        "id": "r_6Agqke6rFX",
        "outputId": "eb8dafb9-6890-473c-83a9-cff35d8dfc3d"
      },
      "source": [
        "check9.head()"
      ],
      "execution_count": 281,
      "outputs": [
        {
          "output_type": "execute_result",
          "data": {
            "text/html": [
              "<div>\n",
              "<style scoped>\n",
              "    .dataframe tbody tr th:only-of-type {\n",
              "        vertical-align: middle;\n",
              "    }\n",
              "\n",
              "    .dataframe tbody tr th {\n",
              "        vertical-align: top;\n",
              "    }\n",
              "\n",
              "    .dataframe thead th {\n",
              "        text-align: right;\n",
              "    }\n",
              "</style>\n",
              "<table border=\"1\" class=\"dataframe\">\n",
              "  <thead>\n",
              "    <tr style=\"text-align: right;\">\n",
              "      <th></th>\n",
              "      <th>Emp_ID</th>\n",
              "      <th>Total_Business_Value</th>\n",
              "      <th>Avg_Quarterly Rating</th>\n",
              "      <th>Age</th>\n",
              "      <th>Gender</th>\n",
              "      <th>City</th>\n",
              "      <th>Education_Level</th>\n",
              "      <th>Salary</th>\n",
              "      <th>Joining Designation</th>\n",
              "      <th>Designation</th>\n",
              "      <th>Tenure</th>\n",
              "      <th>Growth</th>\n",
              "    </tr>\n",
              "  </thead>\n",
              "  <tbody>\n",
              "    <tr>\n",
              "      <th>0</th>\n",
              "      <td>1</td>\n",
              "      <td>1715580</td>\n",
              "      <td>2.0</td>\n",
              "      <td>28</td>\n",
              "      <td>Male</td>\n",
              "      <td>C23</td>\n",
              "      <td>Master</td>\n",
              "      <td>57387</td>\n",
              "      <td>1</td>\n",
              "      <td>1</td>\n",
              "      <td>738</td>\n",
              "      <td>0</td>\n",
              "    </tr>\n",
              "    <tr>\n",
              "      <th>1</th>\n",
              "      <td>2</td>\n",
              "      <td>0</td>\n",
              "      <td>1.0</td>\n",
              "      <td>31</td>\n",
              "      <td>Male</td>\n",
              "      <td>C7</td>\n",
              "      <td>Master</td>\n",
              "      <td>67016</td>\n",
              "      <td>2</td>\n",
              "      <td>2</td>\n",
              "      <td>55</td>\n",
              "      <td>0</td>\n",
              "    </tr>\n",
              "    <tr>\n",
              "      <th>2</th>\n",
              "      <td>4</td>\n",
              "      <td>350000</td>\n",
              "      <td>1.0</td>\n",
              "      <td>43</td>\n",
              "      <td>Male</td>\n",
              "      <td>C13</td>\n",
              "      <td>Master</td>\n",
              "      <td>65603</td>\n",
              "      <td>2</td>\n",
              "      <td>2</td>\n",
              "      <td>389</td>\n",
              "      <td>0</td>\n",
              "    </tr>\n",
              "    <tr>\n",
              "      <th>3</th>\n",
              "      <td>5</td>\n",
              "      <td>120360</td>\n",
              "      <td>1.0</td>\n",
              "      <td>29</td>\n",
              "      <td>Male</td>\n",
              "      <td>C9</td>\n",
              "      <td>College</td>\n",
              "      <td>46368</td>\n",
              "      <td>1</td>\n",
              "      <td>1</td>\n",
              "      <td>722</td>\n",
              "      <td>0</td>\n",
              "    </tr>\n",
              "    <tr>\n",
              "      <th>4</th>\n",
              "      <td>6</td>\n",
              "      <td>1265000</td>\n",
              "      <td>1.6</td>\n",
              "      <td>31</td>\n",
              "      <td>Female</td>\n",
              "      <td>C11</td>\n",
              "      <td>Bachelor</td>\n",
              "      <td>78728</td>\n",
              "      <td>3</td>\n",
              "      <td>3</td>\n",
              "      <td>153</td>\n",
              "      <td>0</td>\n",
              "    </tr>\n",
              "  </tbody>\n",
              "</table>\n",
              "</div>"
            ],
            "text/plain": [
              "   Emp_ID  Total_Business_Value  ...  Tenure  Growth\n",
              "0       1               1715580  ...     738       0\n",
              "1       2                     0  ...      55       0\n",
              "2       4                350000  ...     389       0\n",
              "3       5                120360  ...     722       0\n",
              "4       6               1265000  ...     153       0\n",
              "\n",
              "[5 rows x 12 columns]"
            ]
          },
          "metadata": {},
          "execution_count": 281
        }
      ]
    },
    {
      "cell_type": "code",
      "metadata": {
        "colab": {
          "base_uri": "https://localhost:8080/"
        },
        "id": "-U3te4zo6xSK",
        "outputId": "20df009d-3ba6-4343-d38c-2e4c1a48caa8"
      },
      "source": [
        "check9.City.nunique()"
      ],
      "execution_count": 282,
      "outputs": [
        {
          "output_type": "execute_result",
          "data": {
            "text/plain": [
              "29"
            ]
          },
          "metadata": {},
          "execution_count": 282
        }
      ]
    },
    {
      "cell_type": "code",
      "metadata": {
        "id": "ctnZ0s0ZhXVB"
      },
      "source": [
        "check10_dummy=check9[[\"Gender\",\"Education_Level\",\"City\"]]"
      ],
      "execution_count": 283,
      "outputs": []
    },
    {
      "cell_type": "code",
      "metadata": {
        "id": "kVFHX1zVM5uF"
      },
      "source": [
        "check10_dummy=pd.get_dummies(check10_dummy)"
      ],
      "execution_count": 284,
      "outputs": []
    },
    {
      "cell_type": "code",
      "metadata": {
        "colab": {
          "base_uri": "https://localhost:8080/",
          "height": 224
        },
        "id": "yazp7mD3OANM",
        "outputId": "e993d345-f095-44b3-fa6c-005aa015ae9e"
      },
      "source": [
        "check10_dummy.head()"
      ],
      "execution_count": 285,
      "outputs": [
        {
          "output_type": "execute_result",
          "data": {
            "text/html": [
              "<div>\n",
              "<style scoped>\n",
              "    .dataframe tbody tr th:only-of-type {\n",
              "        vertical-align: middle;\n",
              "    }\n",
              "\n",
              "    .dataframe tbody tr th {\n",
              "        vertical-align: top;\n",
              "    }\n",
              "\n",
              "    .dataframe thead th {\n",
              "        text-align: right;\n",
              "    }\n",
              "</style>\n",
              "<table border=\"1\" class=\"dataframe\">\n",
              "  <thead>\n",
              "    <tr style=\"text-align: right;\">\n",
              "      <th></th>\n",
              "      <th>Gender_Female</th>\n",
              "      <th>Gender_Male</th>\n",
              "      <th>Education_Level_Bachelor</th>\n",
              "      <th>Education_Level_College</th>\n",
              "      <th>Education_Level_Master</th>\n",
              "      <th>City_C1</th>\n",
              "      <th>City_C10</th>\n",
              "      <th>City_C11</th>\n",
              "      <th>City_C12</th>\n",
              "      <th>City_C13</th>\n",
              "      <th>City_C14</th>\n",
              "      <th>City_C15</th>\n",
              "      <th>City_C16</th>\n",
              "      <th>City_C17</th>\n",
              "      <th>City_C18</th>\n",
              "      <th>City_C19</th>\n",
              "      <th>City_C2</th>\n",
              "      <th>City_C20</th>\n",
              "      <th>City_C21</th>\n",
              "      <th>City_C22</th>\n",
              "      <th>City_C23</th>\n",
              "      <th>City_C24</th>\n",
              "      <th>City_C25</th>\n",
              "      <th>City_C26</th>\n",
              "      <th>City_C27</th>\n",
              "      <th>City_C28</th>\n",
              "      <th>City_C29</th>\n",
              "      <th>City_C3</th>\n",
              "      <th>City_C4</th>\n",
              "      <th>City_C5</th>\n",
              "      <th>City_C6</th>\n",
              "      <th>City_C7</th>\n",
              "      <th>City_C8</th>\n",
              "      <th>City_C9</th>\n",
              "    </tr>\n",
              "  </thead>\n",
              "  <tbody>\n",
              "    <tr>\n",
              "      <th>0</th>\n",
              "      <td>0</td>\n",
              "      <td>1</td>\n",
              "      <td>0</td>\n",
              "      <td>0</td>\n",
              "      <td>1</td>\n",
              "      <td>0</td>\n",
              "      <td>0</td>\n",
              "      <td>0</td>\n",
              "      <td>0</td>\n",
              "      <td>0</td>\n",
              "      <td>0</td>\n",
              "      <td>0</td>\n",
              "      <td>0</td>\n",
              "      <td>0</td>\n",
              "      <td>0</td>\n",
              "      <td>0</td>\n",
              "      <td>0</td>\n",
              "      <td>0</td>\n",
              "      <td>0</td>\n",
              "      <td>0</td>\n",
              "      <td>1</td>\n",
              "      <td>0</td>\n",
              "      <td>0</td>\n",
              "      <td>0</td>\n",
              "      <td>0</td>\n",
              "      <td>0</td>\n",
              "      <td>0</td>\n",
              "      <td>0</td>\n",
              "      <td>0</td>\n",
              "      <td>0</td>\n",
              "      <td>0</td>\n",
              "      <td>0</td>\n",
              "      <td>0</td>\n",
              "      <td>0</td>\n",
              "    </tr>\n",
              "    <tr>\n",
              "      <th>1</th>\n",
              "      <td>0</td>\n",
              "      <td>1</td>\n",
              "      <td>0</td>\n",
              "      <td>0</td>\n",
              "      <td>1</td>\n",
              "      <td>0</td>\n",
              "      <td>0</td>\n",
              "      <td>0</td>\n",
              "      <td>0</td>\n",
              "      <td>0</td>\n",
              "      <td>0</td>\n",
              "      <td>0</td>\n",
              "      <td>0</td>\n",
              "      <td>0</td>\n",
              "      <td>0</td>\n",
              "      <td>0</td>\n",
              "      <td>0</td>\n",
              "      <td>0</td>\n",
              "      <td>0</td>\n",
              "      <td>0</td>\n",
              "      <td>0</td>\n",
              "      <td>0</td>\n",
              "      <td>0</td>\n",
              "      <td>0</td>\n",
              "      <td>0</td>\n",
              "      <td>0</td>\n",
              "      <td>0</td>\n",
              "      <td>0</td>\n",
              "      <td>0</td>\n",
              "      <td>0</td>\n",
              "      <td>0</td>\n",
              "      <td>1</td>\n",
              "      <td>0</td>\n",
              "      <td>0</td>\n",
              "    </tr>\n",
              "    <tr>\n",
              "      <th>2</th>\n",
              "      <td>0</td>\n",
              "      <td>1</td>\n",
              "      <td>0</td>\n",
              "      <td>0</td>\n",
              "      <td>1</td>\n",
              "      <td>0</td>\n",
              "      <td>0</td>\n",
              "      <td>0</td>\n",
              "      <td>0</td>\n",
              "      <td>1</td>\n",
              "      <td>0</td>\n",
              "      <td>0</td>\n",
              "      <td>0</td>\n",
              "      <td>0</td>\n",
              "      <td>0</td>\n",
              "      <td>0</td>\n",
              "      <td>0</td>\n",
              "      <td>0</td>\n",
              "      <td>0</td>\n",
              "      <td>0</td>\n",
              "      <td>0</td>\n",
              "      <td>0</td>\n",
              "      <td>0</td>\n",
              "      <td>0</td>\n",
              "      <td>0</td>\n",
              "      <td>0</td>\n",
              "      <td>0</td>\n",
              "      <td>0</td>\n",
              "      <td>0</td>\n",
              "      <td>0</td>\n",
              "      <td>0</td>\n",
              "      <td>0</td>\n",
              "      <td>0</td>\n",
              "      <td>0</td>\n",
              "    </tr>\n",
              "    <tr>\n",
              "      <th>3</th>\n",
              "      <td>0</td>\n",
              "      <td>1</td>\n",
              "      <td>0</td>\n",
              "      <td>1</td>\n",
              "      <td>0</td>\n",
              "      <td>0</td>\n",
              "      <td>0</td>\n",
              "      <td>0</td>\n",
              "      <td>0</td>\n",
              "      <td>0</td>\n",
              "      <td>0</td>\n",
              "      <td>0</td>\n",
              "      <td>0</td>\n",
              "      <td>0</td>\n",
              "      <td>0</td>\n",
              "      <td>0</td>\n",
              "      <td>0</td>\n",
              "      <td>0</td>\n",
              "      <td>0</td>\n",
              "      <td>0</td>\n",
              "      <td>0</td>\n",
              "      <td>0</td>\n",
              "      <td>0</td>\n",
              "      <td>0</td>\n",
              "      <td>0</td>\n",
              "      <td>0</td>\n",
              "      <td>0</td>\n",
              "      <td>0</td>\n",
              "      <td>0</td>\n",
              "      <td>0</td>\n",
              "      <td>0</td>\n",
              "      <td>0</td>\n",
              "      <td>0</td>\n",
              "      <td>1</td>\n",
              "    </tr>\n",
              "    <tr>\n",
              "      <th>4</th>\n",
              "      <td>1</td>\n",
              "      <td>0</td>\n",
              "      <td>1</td>\n",
              "      <td>0</td>\n",
              "      <td>0</td>\n",
              "      <td>0</td>\n",
              "      <td>0</td>\n",
              "      <td>1</td>\n",
              "      <td>0</td>\n",
              "      <td>0</td>\n",
              "      <td>0</td>\n",
              "      <td>0</td>\n",
              "      <td>0</td>\n",
              "      <td>0</td>\n",
              "      <td>0</td>\n",
              "      <td>0</td>\n",
              "      <td>0</td>\n",
              "      <td>0</td>\n",
              "      <td>0</td>\n",
              "      <td>0</td>\n",
              "      <td>0</td>\n",
              "      <td>0</td>\n",
              "      <td>0</td>\n",
              "      <td>0</td>\n",
              "      <td>0</td>\n",
              "      <td>0</td>\n",
              "      <td>0</td>\n",
              "      <td>0</td>\n",
              "      <td>0</td>\n",
              "      <td>0</td>\n",
              "      <td>0</td>\n",
              "      <td>0</td>\n",
              "      <td>0</td>\n",
              "      <td>0</td>\n",
              "    </tr>\n",
              "  </tbody>\n",
              "</table>\n",
              "</div>"
            ],
            "text/plain": [
              "   Gender_Female  Gender_Male  ...  City_C8  City_C9\n",
              "0              0            1  ...        0        0\n",
              "1              0            1  ...        0        0\n",
              "2              0            1  ...        0        0\n",
              "3              0            1  ...        0        1\n",
              "4              1            0  ...        0        0\n",
              "\n",
              "[5 rows x 34 columns]"
            ]
          },
          "metadata": {},
          "execution_count": 285
        }
      ]
    },
    {
      "cell_type": "code",
      "metadata": {
        "id": "LxSwyfqVLJf_"
      },
      "source": [
        "check11_scale=check9.drop([\"Gender\",\"Education_Level\",\"City\"],axis=1)"
      ],
      "execution_count": 286,
      "outputs": []
    },
    {
      "cell_type": "code",
      "metadata": {
        "id": "oUBNPxyvMVwW"
      },
      "source": [
        "from sklearn.preprocessing import MinMaxScaler"
      ],
      "execution_count": 287,
      "outputs": []
    },
    {
      "cell_type": "code",
      "metadata": {
        "id": "I5ONy2QcM4LA"
      },
      "source": [
        "mm=MinMaxScaler()"
      ],
      "execution_count": 288,
      "outputs": []
    },
    {
      "cell_type": "code",
      "metadata": {
        "id": "adFUyWWpNEvo"
      },
      "source": [
        "check11_scale_=mm.fit_transform(check11_scale)"
      ],
      "execution_count": 289,
      "outputs": []
    },
    {
      "cell_type": "code",
      "metadata": {
        "id": "U31ZWQEDNOb3"
      },
      "source": [
        "check11_scale_=pd.DataFrame(check11_scale_,columns=check11_scale.columns)"
      ],
      "execution_count": 290,
      "outputs": []
    },
    {
      "cell_type": "code",
      "metadata": {
        "colab": {
          "base_uri": "https://localhost:8080/",
          "height": 419
        },
        "id": "lomuxZ2MNP-z",
        "outputId": "e11d8b5f-aeb4-4ff9-bdeb-9907f45c84a3"
      },
      "source": [
        "check11_scale_"
      ],
      "execution_count": 291,
      "outputs": [
        {
          "output_type": "execute_result",
          "data": {
            "text/html": [
              "<div>\n",
              "<style scoped>\n",
              "    .dataframe tbody tr th:only-of-type {\n",
              "        vertical-align: middle;\n",
              "    }\n",
              "\n",
              "    .dataframe tbody tr th {\n",
              "        vertical-align: top;\n",
              "    }\n",
              "\n",
              "    .dataframe thead th {\n",
              "        text-align: right;\n",
              "    }\n",
              "</style>\n",
              "<table border=\"1\" class=\"dataframe\">\n",
              "  <thead>\n",
              "    <tr style=\"text-align: right;\">\n",
              "      <th></th>\n",
              "      <th>Emp_ID</th>\n",
              "      <th>Total_Business_Value</th>\n",
              "      <th>Avg_Quarterly Rating</th>\n",
              "      <th>Age</th>\n",
              "      <th>Salary</th>\n",
              "      <th>Joining Designation</th>\n",
              "      <th>Designation</th>\n",
              "      <th>Tenure</th>\n",
              "      <th>Growth</th>\n",
              "    </tr>\n",
              "  </thead>\n",
              "  <tbody>\n",
              "    <tr>\n",
              "      <th>0</th>\n",
              "      <td>0.000000</td>\n",
              "      <td>0.032064</td>\n",
              "      <td>0.333333</td>\n",
              "      <td>0.189189</td>\n",
              "      <td>0.262508</td>\n",
              "      <td>0.00</td>\n",
              "      <td>0.00</td>\n",
              "      <td>0.260685</td>\n",
              "      <td>0.00</td>\n",
              "    </tr>\n",
              "    <tr>\n",
              "      <th>1</th>\n",
              "      <td>0.000359</td>\n",
              "      <td>0.014326</td>\n",
              "      <td>0.000000</td>\n",
              "      <td>0.270270</td>\n",
              "      <td>0.316703</td>\n",
              "      <td>0.25</td>\n",
              "      <td>0.25</td>\n",
              "      <td>0.019428</td>\n",
              "      <td>0.00</td>\n",
              "    </tr>\n",
              "    <tr>\n",
              "      <th>2</th>\n",
              "      <td>0.001076</td>\n",
              "      <td>0.017944</td>\n",
              "      <td>0.000000</td>\n",
              "      <td>0.594595</td>\n",
              "      <td>0.308750</td>\n",
              "      <td>0.25</td>\n",
              "      <td>0.25</td>\n",
              "      <td>0.137407</td>\n",
              "      <td>0.00</td>\n",
              "    </tr>\n",
              "    <tr>\n",
              "      <th>3</th>\n",
              "      <td>0.001435</td>\n",
              "      <td>0.015570</td>\n",
              "      <td>0.000000</td>\n",
              "      <td>0.216216</td>\n",
              "      <td>0.200489</td>\n",
              "      <td>0.00</td>\n",
              "      <td>0.00</td>\n",
              "      <td>0.255034</td>\n",
              "      <td>0.00</td>\n",
              "    </tr>\n",
              "    <tr>\n",
              "      <th>4</th>\n",
              "      <td>0.001794</td>\n",
              "      <td>0.027405</td>\n",
              "      <td>0.200000</td>\n",
              "      <td>0.270270</td>\n",
              "      <td>0.382623</td>\n",
              "      <td>0.50</td>\n",
              "      <td>0.50</td>\n",
              "      <td>0.054045</td>\n",
              "      <td>0.00</td>\n",
              "    </tr>\n",
              "    <tr>\n",
              "      <th>...</th>\n",
              "      <td>...</td>\n",
              "      <td>...</td>\n",
              "      <td>...</td>\n",
              "      <td>...</td>\n",
              "      <td>...</td>\n",
              "      <td>...</td>\n",
              "      <td>...</td>\n",
              "      <td>...</td>\n",
              "      <td>...</td>\n",
              "    </tr>\n",
              "    <tr>\n",
              "      <th>2376</th>\n",
              "      <td>0.998565</td>\n",
              "      <td>0.239197</td>\n",
              "      <td>0.541667</td>\n",
              "      <td>0.324324</td>\n",
              "      <td>0.405626</td>\n",
              "      <td>0.25</td>\n",
              "      <td>0.50</td>\n",
              "      <td>0.672201</td>\n",
              "      <td>0.25</td>\n",
              "    </tr>\n",
              "    <tr>\n",
              "      <th>2377</th>\n",
              "      <td>0.998924</td>\n",
              "      <td>0.014326</td>\n",
              "      <td>0.000000</td>\n",
              "      <td>0.351351</td>\n",
              "      <td>0.007643</td>\n",
              "      <td>0.00</td>\n",
              "      <td>0.00</td>\n",
              "      <td>0.044154</td>\n",
              "      <td>0.00</td>\n",
              "    </tr>\n",
              "    <tr>\n",
              "      <th>2378</th>\n",
              "      <td>0.999282</td>\n",
              "      <td>0.043432</td>\n",
              "      <td>0.222222</td>\n",
              "      <td>0.621622</td>\n",
              "      <td>0.138588</td>\n",
              "      <td>0.25</td>\n",
              "      <td>0.25</td>\n",
              "      <td>0.312257</td>\n",
              "      <td>0.00</td>\n",
              "    </tr>\n",
              "    <tr>\n",
              "      <th>2379</th>\n",
              "      <td>0.999641</td>\n",
              "      <td>0.024436</td>\n",
              "      <td>0.166667</td>\n",
              "      <td>0.189189</td>\n",
              "      <td>0.330673</td>\n",
              "      <td>0.00</td>\n",
              "      <td>0.00</td>\n",
              "      <td>0.315789</td>\n",
              "      <td>0.00</td>\n",
              "    </tr>\n",
              "    <tr>\n",
              "      <th>2380</th>\n",
              "      <td>1.000000</td>\n",
              "      <td>0.038088</td>\n",
              "      <td>0.428571</td>\n",
              "      <td>0.216216</td>\n",
              "      <td>0.334928</td>\n",
              "      <td>0.25</td>\n",
              "      <td>0.25</td>\n",
              "      <td>0.072766</td>\n",
              "      <td>0.00</td>\n",
              "    </tr>\n",
              "  </tbody>\n",
              "</table>\n",
              "<p>2381 rows × 9 columns</p>\n",
              "</div>"
            ],
            "text/plain": [
              "        Emp_ID  Total_Business_Value  ...    Tenure  Growth\n",
              "0     0.000000              0.032064  ...  0.260685    0.00\n",
              "1     0.000359              0.014326  ...  0.019428    0.00\n",
              "2     0.001076              0.017944  ...  0.137407    0.00\n",
              "3     0.001435              0.015570  ...  0.255034    0.00\n",
              "4     0.001794              0.027405  ...  0.054045    0.00\n",
              "...        ...                   ...  ...       ...     ...\n",
              "2376  0.998565              0.239197  ...  0.672201    0.25\n",
              "2377  0.998924              0.014326  ...  0.044154    0.00\n",
              "2378  0.999282              0.043432  ...  0.312257    0.00\n",
              "2379  0.999641              0.024436  ...  0.315789    0.00\n",
              "2380  1.000000              0.038088  ...  0.072766    0.00\n",
              "\n",
              "[2381 rows x 9 columns]"
            ]
          },
          "metadata": {},
          "execution_count": 291
        }
      ]
    },
    {
      "cell_type": "code",
      "metadata": {
        "id": "GScb7dK9N9hQ"
      },
      "source": [
        "combinedf=pd.concat([check10_dummy,check11_scale_],axis=1)"
      ],
      "execution_count": 292,
      "outputs": []
    },
    {
      "cell_type": "code",
      "metadata": {
        "id": "Evb0JrzuNvrQ"
      },
      "source": [
        "combinedf=combinedf.drop(\"Emp_ID\",axis=1)"
      ],
      "execution_count": 293,
      "outputs": []
    },
    {
      "cell_type": "code",
      "metadata": {
        "colab": {
          "base_uri": "https://localhost:8080/"
        },
        "id": "RVZY9gvUOhsx",
        "outputId": "7b824e91-d703-4892-9159-e2bf041a3ea1"
      },
      "source": [
        "combinedf.shape"
      ],
      "execution_count": 294,
      "outputs": [
        {
          "output_type": "execute_result",
          "data": {
            "text/plain": [
              "(2381, 42)"
            ]
          },
          "metadata": {},
          "execution_count": 294
        }
      ]
    },
    {
      "cell_type": "code",
      "metadata": {
        "id": "NWWlF6AbOjyT"
      },
      "source": [
        "from sklearn.cluster import KMeans"
      ],
      "execution_count": 295,
      "outputs": []
    },
    {
      "cell_type": "code",
      "metadata": {
        "id": "o8ryMVRCO_Gk"
      },
      "source": [
        "k_means = KMeans(init = \"k-means++\", n_clusters = 2, n_init = 12)"
      ],
      "execution_count": 296,
      "outputs": []
    },
    {
      "cell_type": "code",
      "metadata": {
        "colab": {
          "base_uri": "https://localhost:8080/"
        },
        "id": "NC9d2fciPate",
        "outputId": "f010fb72-6461-40a9-cda1-0c5dd1f720ca"
      },
      "source": [
        "k_means.fit(combinedf)\n",
        "labels = k_means.labels_\n",
        "print(labels)"
      ],
      "execution_count": 297,
      "outputs": [
        {
          "output_type": "stream",
          "name": "stdout",
          "text": [
            "[0 0 0 ... 0 1 0]\n"
          ]
        }
      ]
    },
    {
      "cell_type": "code",
      "metadata": {
        "colab": {
          "base_uri": "https://localhost:8080/"
        },
        "id": "cqtPbpPaPlJv",
        "outputId": "d0e77948-eec7-4773-e476-92d249151a6e"
      },
      "source": [
        "labels.shape"
      ],
      "execution_count": 298,
      "outputs": [
        {
          "output_type": "execute_result",
          "data": {
            "text/plain": [
              "(2381,)"
            ]
          },
          "metadata": {},
          "execution_count": 298
        }
      ]
    },
    {
      "cell_type": "code",
      "metadata": {
        "id": "Id2mteslPo4D"
      },
      "source": [
        "check9[\"labels\"]=labels"
      ],
      "execution_count": 299,
      "outputs": []
    },
    {
      "cell_type": "code",
      "metadata": {
        "colab": {
          "base_uri": "https://localhost:8080/"
        },
        "id": "PyjCYvGqQUNL",
        "outputId": "8af25ce5-6a58-4276-ba5c-c21a2fc191ff"
      },
      "source": [
        "check9.labels.value_counts()"
      ],
      "execution_count": 300,
      "outputs": [
        {
          "output_type": "execute_result",
          "data": {
            "text/plain": [
              "0    1404\n",
              "1     977\n",
              "Name: labels, dtype: int64"
            ]
          },
          "metadata": {},
          "execution_count": 300
        }
      ]
    },
    {
      "cell_type": "code",
      "metadata": {
        "colab": {
          "base_uri": "https://localhost:8080/",
          "height": 204
        },
        "id": "F7uMa6T0QXA3",
        "outputId": "197884eb-f4b1-4d4f-f7c8-390a79494aaf"
      },
      "source": [
        "dftest.head()"
      ],
      "execution_count": 301,
      "outputs": [
        {
          "output_type": "execute_result",
          "data": {
            "text/html": [
              "<div>\n",
              "<style scoped>\n",
              "    .dataframe tbody tr th:only-of-type {\n",
              "        vertical-align: middle;\n",
              "    }\n",
              "\n",
              "    .dataframe tbody tr th {\n",
              "        vertical-align: top;\n",
              "    }\n",
              "\n",
              "    .dataframe thead th {\n",
              "        text-align: right;\n",
              "    }\n",
              "</style>\n",
              "<table border=\"1\" class=\"dataframe\">\n",
              "  <thead>\n",
              "    <tr style=\"text-align: right;\">\n",
              "      <th></th>\n",
              "      <th>Emp_ID</th>\n",
              "    </tr>\n",
              "  </thead>\n",
              "  <tbody>\n",
              "    <tr>\n",
              "      <th>0</th>\n",
              "      <td>394</td>\n",
              "    </tr>\n",
              "    <tr>\n",
              "      <th>1</th>\n",
              "      <td>173</td>\n",
              "    </tr>\n",
              "    <tr>\n",
              "      <th>2</th>\n",
              "      <td>1090</td>\n",
              "    </tr>\n",
              "    <tr>\n",
              "      <th>3</th>\n",
              "      <td>840</td>\n",
              "    </tr>\n",
              "    <tr>\n",
              "      <th>4</th>\n",
              "      <td>308</td>\n",
              "    </tr>\n",
              "  </tbody>\n",
              "</table>\n",
              "</div>"
            ],
            "text/plain": [
              "   Emp_ID\n",
              "0     394\n",
              "1     173\n",
              "2    1090\n",
              "3     840\n",
              "4     308"
            ]
          },
          "metadata": {},
          "execution_count": 301
        }
      ]
    },
    {
      "cell_type": "code",
      "metadata": {
        "colab": {
          "base_uri": "https://localhost:8080/",
          "height": 204
        },
        "id": "KidCpzZpR0Fi",
        "outputId": "5ef96d24-bf4b-4266-9cc7-0de265084769"
      },
      "source": [
        "prediction.head()"
      ],
      "execution_count": 302,
      "outputs": [
        {
          "output_type": "execute_result",
          "data": {
            "text/html": [
              "<div>\n",
              "<style scoped>\n",
              "    .dataframe tbody tr th:only-of-type {\n",
              "        vertical-align: middle;\n",
              "    }\n",
              "\n",
              "    .dataframe tbody tr th {\n",
              "        vertical-align: top;\n",
              "    }\n",
              "\n",
              "    .dataframe thead th {\n",
              "        text-align: right;\n",
              "    }\n",
              "</style>\n",
              "<table border=\"1\" class=\"dataframe\">\n",
              "  <thead>\n",
              "    <tr style=\"text-align: right;\">\n",
              "      <th></th>\n",
              "      <th>Emp_ID</th>\n",
              "      <th>Total_Business_Value</th>\n",
              "      <th>Avg_Quarterly Rating</th>\n",
              "      <th>Age</th>\n",
              "      <th>Gender</th>\n",
              "      <th>City</th>\n",
              "      <th>Education_Level</th>\n",
              "      <th>Salary</th>\n",
              "      <th>Designation</th>\n",
              "      <th>Tenure</th>\n",
              "      <th>Growth</th>\n",
              "      <th>labels</th>\n",
              "      <th>labels_agg</th>\n",
              "      <th>labels_fclust</th>\n",
              "    </tr>\n",
              "  </thead>\n",
              "  <tbody>\n",
              "    <tr>\n",
              "      <th>0</th>\n",
              "      <td>394</td>\n",
              "      <td>27458220</td>\n",
              "      <td>2.125</td>\n",
              "      <td>32</td>\n",
              "      <td>Female</td>\n",
              "      <td>C20</td>\n",
              "      <td>Master</td>\n",
              "      <td>97722</td>\n",
              "      <td>4</td>\n",
              "      <td>2400</td>\n",
              "      <td>2</td>\n",
              "      <td>1</td>\n",
              "      <td>1</td>\n",
              "      <td>1</td>\n",
              "    </tr>\n",
              "    <tr>\n",
              "      <th>1</th>\n",
              "      <td>173</td>\n",
              "      <td>19866290</td>\n",
              "      <td>2.750</td>\n",
              "      <td>37</td>\n",
              "      <td>Male</td>\n",
              "      <td>C28</td>\n",
              "      <td>College</td>\n",
              "      <td>56174</td>\n",
              "      <td>3</td>\n",
              "      <td>2393</td>\n",
              "      <td>2</td>\n",
              "      <td>0</td>\n",
              "      <td>0</td>\n",
              "      <td>0</td>\n",
              "    </tr>\n",
              "    <tr>\n",
              "      <th>2</th>\n",
              "      <td>1090</td>\n",
              "      <td>50382490</td>\n",
              "      <td>2.750</td>\n",
              "      <td>37</td>\n",
              "      <td>Male</td>\n",
              "      <td>C13</td>\n",
              "      <td>College</td>\n",
              "      <td>96750</td>\n",
              "      <td>4</td>\n",
              "      <td>2379</td>\n",
              "      <td>2</td>\n",
              "      <td>0</td>\n",
              "      <td>0</td>\n",
              "      <td>0</td>\n",
              "    </tr>\n",
              "    <tr>\n",
              "      <th>3</th>\n",
              "      <td>840</td>\n",
              "      <td>17134040</td>\n",
              "      <td>1.500</td>\n",
              "      <td>39</td>\n",
              "      <td>Female</td>\n",
              "      <td>C8</td>\n",
              "      <td>College</td>\n",
              "      <td>88813</td>\n",
              "      <td>4</td>\n",
              "      <td>2365</td>\n",
              "      <td>3</td>\n",
              "      <td>1</td>\n",
              "      <td>1</td>\n",
              "      <td>1</td>\n",
              "    </tr>\n",
              "    <tr>\n",
              "      <th>4</th>\n",
              "      <td>308</td>\n",
              "      <td>58024490</td>\n",
              "      <td>2.625</td>\n",
              "      <td>30</td>\n",
              "      <td>Male</td>\n",
              "      <td>C5</td>\n",
              "      <td>Master</td>\n",
              "      <td>188418</td>\n",
              "      <td>5</td>\n",
              "      <td>2330</td>\n",
              "      <td>3</td>\n",
              "      <td>0</td>\n",
              "      <td>0</td>\n",
              "      <td>0</td>\n",
              "    </tr>\n",
              "  </tbody>\n",
              "</table>\n",
              "</div>"
            ],
            "text/plain": [
              "   Emp_ID  Total_Business_Value  ...  labels_agg  labels_fclust\n",
              "0     394              27458220  ...           1              1\n",
              "1     173              19866290  ...           0              0\n",
              "2    1090              50382490  ...           0              0\n",
              "3     840              17134040  ...           1              1\n",
              "4     308              58024490  ...           0              0\n",
              "\n",
              "[5 rows x 14 columns]"
            ]
          },
          "metadata": {},
          "execution_count": 302
        }
      ]
    },
    {
      "cell_type": "code",
      "metadata": {
        "id": "RnWF-zjbQ-1e"
      },
      "source": [
        "prediction_.to_csv(\"job1.csv\",index=False)"
      ],
      "execution_count": 303,
      "outputs": []
    },
    {
      "cell_type": "code",
      "metadata": {
        "id": "dW7E3dk5RYZs"
      },
      "source": [
        "from scipy import ndimage \n",
        "from scipy.cluster import hierarchy \n",
        "from scipy.spatial import distance_matrix \n",
        "from sklearn.cluster import AgglomerativeClustering "
      ],
      "execution_count": 304,
      "outputs": []
    },
    {
      "cell_type": "code",
      "metadata": {
        "id": "tZA31-Uwm7JU"
      },
      "source": [
        "x=np.array(combinedf)"
      ],
      "execution_count": 305,
      "outputs": []
    },
    {
      "cell_type": "code",
      "metadata": {
        "colab": {
          "base_uri": "https://localhost:8080/"
        },
        "id": "_znGzTU5mPZR",
        "outputId": "53603322-f311-47e5-cee0-682822e793e7"
      },
      "source": [
        "import scipy\n",
        "leng = x.shape[0]\n",
        "D = scipy.zeros([leng,leng])\n",
        "for i in range(leng):\n",
        "    for j in range(leng):\n",
        "        D[i,j] = scipy.spatial.distance.euclidean(x[i], x[j])\n",
        "D"
      ],
      "execution_count": 306,
      "outputs": [
        {
          "output_type": "stream",
          "name": "stderr",
          "text": [
            "/usr/local/lib/python3.7/dist-packages/ipykernel_launcher.py:3: DeprecationWarning: scipy.zeros is deprecated and will be removed in SciPy 2.0.0, use numpy.zeros instead\n",
            "  This is separate from the ipykernel package so we can avoid doing imports until\n"
          ]
        },
        {
          "output_type": "execute_result",
          "data": {
            "text/plain": [
              "array([[0.        , 1.51794013, 1.55499192, ..., 2.08386386, 2.00886011,\n",
              "        1.4749222 ],\n",
              "       [1.51794013, 0.        , 1.45574097, ..., 2.07150958, 2.06094142,\n",
              "        1.47997874],\n",
              "       [1.55499192, 1.45574097, 0.        , ..., 2.02738518, 2.08553932,\n",
              "        1.52712581],\n",
              "       ...,\n",
              "       [2.08386386, 2.07150958, 2.02738518, ..., 0.        , 2.52038774,\n",
              "        2.0743355 ],\n",
              "       [2.00886011, 2.06094142, 2.08553932, ..., 2.52038774, 0.        ,\n",
              "        2.06242323],\n",
              "       [1.4749222 , 1.47997874, 1.52712581, ..., 2.0743355 , 2.06242323,\n",
              "        0.        ]])"
            ]
          },
          "metadata": {},
          "execution_count": 306
        }
      ]
    },
    {
      "cell_type": "code",
      "metadata": {
        "colab": {
          "base_uri": "https://localhost:8080/"
        },
        "id": "PUaaJrNdmyj4",
        "outputId": "2e50bf63-02a7-4e15-fc69-92e68fc2ba54"
      },
      "source": [
        "import pylab\n",
        "import scipy.cluster.hierarchy\n",
        "Z = hierarchy.linkage(D, 'complete')"
      ],
      "execution_count": 307,
      "outputs": [
        {
          "output_type": "stream",
          "name": "stderr",
          "text": [
            "/usr/local/lib/python3.7/dist-packages/ipykernel_launcher.py:3: ClusterWarning: scipy.cluster: The symmetric non-negative hollow observation matrix looks suspiciously like an uncondensed distance matrix\n",
            "  This is separate from the ipykernel package so we can avoid doing imports until\n"
          ]
        }
      ]
    },
    {
      "cell_type": "code",
      "metadata": {
        "colab": {
          "base_uri": "https://localhost:8080/"
        },
        "id": "QXCjAWH9pNGS",
        "outputId": "f5d03356-4297-4243-bd59-f358578188af"
      },
      "source": [
        "from scipy.cluster.hierarchy import fcluster\n",
        "max_d = 3\n",
        "clusters = fcluster(Z, max_d, criterion='distance')\n",
        "clusters"
      ],
      "execution_count": 308,
      "outputs": [
        {
          "output_type": "execute_result",
          "data": {
            "text/plain": [
              "array([562, 469, 556, ..., 309, 964, 586], dtype=int32)"
            ]
          },
          "metadata": {},
          "execution_count": 308
        }
      ]
    },
    {
      "cell_type": "code",
      "metadata": {
        "colab": {
          "base_uri": "https://localhost:8080/"
        },
        "id": "RPKUCebxpZhX",
        "outputId": "12169ebc-0aab-480f-d6a2-d8b75b10cd74"
      },
      "source": [
        "from scipy.cluster.hierarchy import fcluster\n",
        "k = 2\n",
        "clusters = fcluster(Z, k, criterion='maxclust')\n",
        "clusters\n"
      ],
      "execution_count": 309,
      "outputs": [
        {
          "output_type": "execute_result",
          "data": {
            "text/plain": [
              "array([1, 1, 1, ..., 1, 2, 1], dtype=int32)"
            ]
          },
          "metadata": {},
          "execution_count": 309
        }
      ]
    },
    {
      "cell_type": "code",
      "metadata": {
        "id": "F2wAOEVCrmCI"
      },
      "source": [
        "check9[\"labels_fclust\"]=clusters"
      ],
      "execution_count": 310,
      "outputs": []
    },
    {
      "cell_type": "code",
      "metadata": {
        "colab": {
          "base_uri": "https://localhost:8080/"
        },
        "id": "Jg4XekH8pzoc",
        "outputId": "d2a43b98-656b-4471-fe11-b416236e56af"
      },
      "source": [
        "from sklearn.metrics.pairwise import euclidean_distances\n",
        "dist_matrix = euclidean_distances(x,x) \n",
        "print(dist_matrix)"
      ],
      "execution_count": 311,
      "outputs": [
        {
          "output_type": "stream",
          "name": "stdout",
          "text": [
            "[[0.         1.51794013 1.55499192 ... 2.08386386 2.00886011 1.4749222 ]\n",
            " [1.51794013 0.         1.45574097 ... 2.07150958 2.06094142 1.47997874]\n",
            " [1.55499192 1.45574097 0.         ... 2.02738518 2.08553932 1.52712581]\n",
            " ...\n",
            " [2.08386386 2.07150958 2.02738518 ... 0.         2.52038774 2.0743355 ]\n",
            " [2.00886011 2.06094142 2.08553932 ... 2.52038774 0.         2.06242323]\n",
            " [1.4749222  1.47997874 1.52712581 ... 2.0743355  2.06242323 0.        ]]\n"
          ]
        }
      ]
    },
    {
      "cell_type": "code",
      "metadata": {
        "colab": {
          "base_uri": "https://localhost:8080/"
        },
        "id": "V_0jo3wKqBUa",
        "outputId": "119ad279-3529-4597-de1a-5231fb310778"
      },
      "source": [
        "Z_using_dist_matrix = hierarchy.linkage(dist_matrix, 'complete')"
      ],
      "execution_count": 312,
      "outputs": [
        {
          "output_type": "stream",
          "name": "stderr",
          "text": [
            "/usr/local/lib/python3.7/dist-packages/ipykernel_launcher.py:1: ClusterWarning: scipy.cluster: The symmetric non-negative hollow observation matrix looks suspiciously like an uncondensed distance matrix\n",
            "  \"\"\"Entry point for launching an IPython kernel.\n"
          ]
        }
      ]
    },
    {
      "cell_type": "code",
      "metadata": {
        "colab": {
          "base_uri": "https://localhost:8080/"
        },
        "id": "tIdCuwjiqQmV",
        "outputId": "6c2f4871-eca4-4006-b2ff-24ff1e680a26"
      },
      "source": [
        "agglom = AgglomerativeClustering(n_clusters = 2, linkage = 'complete')\n",
        "agglom.fit(dist_matrix)\n",
        "\n",
        "agglom.labels_"
      ],
      "execution_count": 313,
      "outputs": [
        {
          "output_type": "stream",
          "name": "stderr",
          "text": [
            "/usr/local/lib/python3.7/dist-packages/sklearn/cluster/_agglomerative.py:542: ClusterWarning: scipy.cluster: The symmetric non-negative hollow observation matrix looks suspiciously like an uncondensed distance matrix\n",
            "  out = hierarchy.linkage(X, method=linkage, metric=affinity)\n"
          ]
        },
        {
          "output_type": "execute_result",
          "data": {
            "text/plain": [
              "array([1, 1, 1, ..., 1, 0, 1])"
            ]
          },
          "metadata": {},
          "execution_count": 313
        }
      ]
    },
    {
      "cell_type": "code",
      "metadata": {
        "id": "fKzKycHKqeTT"
      },
      "source": [
        "check9[\"labels_agg\"]=agglom.labels_"
      ],
      "execution_count": 314,
      "outputs": []
    },
    {
      "cell_type": "code",
      "metadata": {
        "id": "CmZdx1w3sZZk"
      },
      "source": [
        "check9[\"labels_fclust\"].replace(2,0,inplace=True)"
      ],
      "execution_count": 315,
      "outputs": []
    },
    {
      "cell_type": "code",
      "metadata": {
        "colab": {
          "base_uri": "https://localhost:8080/",
          "height": 241
        },
        "id": "KHJ71JF3s_DI",
        "outputId": "c18bce20-2b67-4a0c-d7ae-475ac46185b9"
      },
      "source": [
        "check9.head()"
      ],
      "execution_count": 316,
      "outputs": [
        {
          "output_type": "execute_result",
          "data": {
            "text/html": [
              "<div>\n",
              "<style scoped>\n",
              "    .dataframe tbody tr th:only-of-type {\n",
              "        vertical-align: middle;\n",
              "    }\n",
              "\n",
              "    .dataframe tbody tr th {\n",
              "        vertical-align: top;\n",
              "    }\n",
              "\n",
              "    .dataframe thead th {\n",
              "        text-align: right;\n",
              "    }\n",
              "</style>\n",
              "<table border=\"1\" class=\"dataframe\">\n",
              "  <thead>\n",
              "    <tr style=\"text-align: right;\">\n",
              "      <th></th>\n",
              "      <th>Emp_ID</th>\n",
              "      <th>Total_Business_Value</th>\n",
              "      <th>Avg_Quarterly Rating</th>\n",
              "      <th>Age</th>\n",
              "      <th>Gender</th>\n",
              "      <th>City</th>\n",
              "      <th>Education_Level</th>\n",
              "      <th>Salary</th>\n",
              "      <th>Joining Designation</th>\n",
              "      <th>Designation</th>\n",
              "      <th>Tenure</th>\n",
              "      <th>Growth</th>\n",
              "      <th>labels</th>\n",
              "      <th>labels_fclust</th>\n",
              "      <th>labels_agg</th>\n",
              "    </tr>\n",
              "  </thead>\n",
              "  <tbody>\n",
              "    <tr>\n",
              "      <th>0</th>\n",
              "      <td>1</td>\n",
              "      <td>1715580</td>\n",
              "      <td>2.0</td>\n",
              "      <td>28</td>\n",
              "      <td>Male</td>\n",
              "      <td>C23</td>\n",
              "      <td>Master</td>\n",
              "      <td>57387</td>\n",
              "      <td>1</td>\n",
              "      <td>1</td>\n",
              "      <td>738</td>\n",
              "      <td>0</td>\n",
              "      <td>0</td>\n",
              "      <td>1</td>\n",
              "      <td>1</td>\n",
              "    </tr>\n",
              "    <tr>\n",
              "      <th>1</th>\n",
              "      <td>2</td>\n",
              "      <td>0</td>\n",
              "      <td>1.0</td>\n",
              "      <td>31</td>\n",
              "      <td>Male</td>\n",
              "      <td>C7</td>\n",
              "      <td>Master</td>\n",
              "      <td>67016</td>\n",
              "      <td>2</td>\n",
              "      <td>2</td>\n",
              "      <td>55</td>\n",
              "      <td>0</td>\n",
              "      <td>0</td>\n",
              "      <td>1</td>\n",
              "      <td>1</td>\n",
              "    </tr>\n",
              "    <tr>\n",
              "      <th>2</th>\n",
              "      <td>4</td>\n",
              "      <td>350000</td>\n",
              "      <td>1.0</td>\n",
              "      <td>43</td>\n",
              "      <td>Male</td>\n",
              "      <td>C13</td>\n",
              "      <td>Master</td>\n",
              "      <td>65603</td>\n",
              "      <td>2</td>\n",
              "      <td>2</td>\n",
              "      <td>389</td>\n",
              "      <td>0</td>\n",
              "      <td>0</td>\n",
              "      <td>1</td>\n",
              "      <td>1</td>\n",
              "    </tr>\n",
              "    <tr>\n",
              "      <th>3</th>\n",
              "      <td>5</td>\n",
              "      <td>120360</td>\n",
              "      <td>1.0</td>\n",
              "      <td>29</td>\n",
              "      <td>Male</td>\n",
              "      <td>C9</td>\n",
              "      <td>College</td>\n",
              "      <td>46368</td>\n",
              "      <td>1</td>\n",
              "      <td>1</td>\n",
              "      <td>722</td>\n",
              "      <td>0</td>\n",
              "      <td>0</td>\n",
              "      <td>1</td>\n",
              "      <td>1</td>\n",
              "    </tr>\n",
              "    <tr>\n",
              "      <th>4</th>\n",
              "      <td>6</td>\n",
              "      <td>1265000</td>\n",
              "      <td>1.6</td>\n",
              "      <td>31</td>\n",
              "      <td>Female</td>\n",
              "      <td>C11</td>\n",
              "      <td>Bachelor</td>\n",
              "      <td>78728</td>\n",
              "      <td>3</td>\n",
              "      <td>3</td>\n",
              "      <td>153</td>\n",
              "      <td>0</td>\n",
              "      <td>1</td>\n",
              "      <td>0</td>\n",
              "      <td>0</td>\n",
              "    </tr>\n",
              "  </tbody>\n",
              "</table>\n",
              "</div>"
            ],
            "text/plain": [
              "   Emp_ID  Total_Business_Value  ...  labels_fclust  labels_agg\n",
              "0       1               1715580  ...              1           1\n",
              "1       2                     0  ...              1           1\n",
              "2       4                350000  ...              1           1\n",
              "3       5                120360  ...              1           1\n",
              "4       6               1265000  ...              0           0\n",
              "\n",
              "[5 rows x 15 columns]"
            ]
          },
          "metadata": {},
          "execution_count": 316
        }
      ]
    },
    {
      "cell_type": "code",
      "metadata": {
        "colab": {
          "base_uri": "https://localhost:8080/"
        },
        "id": "3mNlI6WQtMbw",
        "outputId": "26b8ebc9-b650-4463-a057-562c1a0863b5"
      },
      "source": [
        "check9[\"labels\"].value_counts()"
      ],
      "execution_count": 317,
      "outputs": [
        {
          "output_type": "execute_result",
          "data": {
            "text/plain": [
              "0    1404\n",
              "1     977\n",
              "Name: labels, dtype: int64"
            ]
          },
          "metadata": {},
          "execution_count": 317
        }
      ]
    },
    {
      "cell_type": "code",
      "metadata": {
        "colab": {
          "base_uri": "https://localhost:8080/"
        },
        "id": "S0xw1bJtur7c",
        "outputId": "1315488c-e8c7-411b-bfe2-2dededdacdab"
      },
      "source": [
        "check9[\"labels_fclust\"].value_counts()"
      ],
      "execution_count": 318,
      "outputs": [
        {
          "output_type": "execute_result",
          "data": {
            "text/plain": [
              "1    1404\n",
              "0     977\n",
              "Name: labels_fclust, dtype: int64"
            ]
          },
          "metadata": {},
          "execution_count": 318
        }
      ]
    },
    {
      "cell_type": "code",
      "metadata": {
        "colab": {
          "base_uri": "https://localhost:8080/"
        },
        "id": "qqJr50Aau0qg",
        "outputId": "76036230-4137-4143-b278-93ba865e93d9"
      },
      "source": [
        "check9[\"labels_agg\"].value_counts()"
      ],
      "execution_count": 319,
      "outputs": [
        {
          "output_type": "execute_result",
          "data": {
            "text/plain": [
              "1    1404\n",
              "0     977\n",
              "Name: labels_agg, dtype: int64"
            ]
          },
          "metadata": {},
          "execution_count": 319
        }
      ]
    },
    {
      "cell_type": "code",
      "metadata": {
        "id": "RPRsO7c4Qlq2"
      },
      "source": [
        "prediction=dftest.join(check9.set_index(\"Emp_ID\"),on=\"Emp_ID\")"
      ],
      "execution_count": 320,
      "outputs": []
    },
    {
      "cell_type": "code",
      "metadata": {
        "id": "tbnZMcUOriUB"
      },
      "source": [
        "prediction_kmean=prediction[[\"Emp_ID\",\"labels\"]]"
      ],
      "execution_count": 321,
      "outputs": []
    },
    {
      "cell_type": "code",
      "metadata": {
        "id": "Nlupvy48sXPE"
      },
      "source": [
        "prediction_.to_csv(\"job1.csv\",index=False)"
      ],
      "execution_count": 322,
      "outputs": []
    },
    {
      "cell_type": "code",
      "metadata": {
        "id": "jBHz4Jffti_-"
      },
      "source": [
        "prediction_fclust=prediction[[\"Emp_ID\",\"labels_fclust\"]]"
      ],
      "execution_count": 323,
      "outputs": []
    },
    {
      "cell_type": "code",
      "metadata": {
        "id": "Y7uorHhwuCBN"
      },
      "source": [
        "prediction_fclust.to_csv(\"job_fclust.csv\",index=False)"
      ],
      "execution_count": 324,
      "outputs": []
    },
    {
      "cell_type": "code",
      "metadata": {
        "id": "AvJkUxYfuJ2R"
      },
      "source": [
        "prediction_agg=prediction[[\"Emp_ID\",\"labels_agg\"]]"
      ],
      "execution_count": 325,
      "outputs": []
    },
    {
      "cell_type": "code",
      "metadata": {
        "id": "2VumYA3auWu-"
      },
      "source": [
        "prediction_agg.to_csv(\"job_agg.csv\",index=False)"
      ],
      "execution_count": 326,
      "outputs": []
    },
    {
      "cell_type": "code",
      "metadata": {
        "id": "D0D9MIJaulJR"
      },
      "source": [
        "from sklearn.cluster import DBSCAN"
      ],
      "execution_count": 327,
      "outputs": []
    },
    {
      "cell_type": "code",
      "metadata": {
        "id": "vMmzpGoQyBOL"
      },
      "source": [
        "db = DBSCAN(eps=0.85, min_samples=30).fit(combinedf)"
      ],
      "execution_count": 407,
      "outputs": []
    },
    {
      "cell_type": "code",
      "metadata": {
        "id": "XLGhS5dsyQ91"
      },
      "source": [
        "labels=db.labels_"
      ],
      "execution_count": 408,
      "outputs": []
    },
    {
      "cell_type": "code",
      "metadata": {
        "id": "qomlSE6yyT_h"
      },
      "source": [
        "\n",
        "\n",
        "realClusterNum=len(set(labels)) - (1 if -1 in labels else 0)\n",
        "clusterNum = len(set(labels))"
      ],
      "execution_count": 409,
      "outputs": []
    },
    {
      "cell_type": "code",
      "metadata": {
        "colab": {
          "base_uri": "https://localhost:8080/"
        },
        "id": "Vxvr2FeEys0M",
        "outputId": "a5c4df2e-9e8f-4c0d-8a1d-2e8b1e1ef0ba"
      },
      "source": [
        "\n",
        "clusterNum"
      ],
      "execution_count": 410,
      "outputs": [
        {
          "output_type": "execute_result",
          "data": {
            "text/plain": [
              "2"
            ]
          },
          "metadata": {},
          "execution_count": 410
        }
      ]
    },
    {
      "cell_type": "code",
      "metadata": {
        "id": "aRdfa7Ps060e"
      },
      "source": [
        "labels=pd.DataFrame(labels,columns=[\"dbscan\"])"
      ],
      "execution_count": 411,
      "outputs": []
    },
    {
      "cell_type": "code",
      "metadata": {
        "colab": {
          "base_uri": "https://localhost:8080/"
        },
        "id": "CC0EfH1n1Qgo",
        "outputId": "ad1dc078-2da6-4f59-e4a3-abbba3121f4c"
      },
      "source": [
        "labels.dbscan.value_counts()"
      ],
      "execution_count": 412,
      "outputs": [
        {
          "output_type": "execute_result",
          "data": {
            "text/plain": [
              "-1    2348\n",
              " 0      33\n",
              "Name: dbscan, dtype: int64"
            ]
          },
          "metadata": {},
          "execution_count": 412
        }
      ]
    },
    {
      "cell_type": "code",
      "metadata": {
        "id": "BV7iP8TUyvG1"
      },
      "source": [
        ""
      ],
      "execution_count": null,
      "outputs": []
    }
  ]
}